{
 "cells": [
  {
   "cell_type": "code",
   "execution_count": 1,
   "id": "46045b17-9111-4d8b-9f81-76383fda160c",
   "metadata": {
    "extensions": {
     "jupyter_dashboards": {
      "activeView": "grid_default",
      "views": {
       "grid_default": {
        "col": null,
        "height": 2,
        "hidden": true,
        "locked": true,
        "row": null,
        "width": 2
       }
      }
     }
    },
    "tags": []
   },
   "outputs": [],
   "source": [
    "import geopandas as gpd"
   ]
  },
  {
   "cell_type": "code",
   "execution_count": 2,
   "id": "cd0f27a3-504c-4c9d-b948-33caecb312da",
   "metadata": {
    "extensions": {
     "jupyter_dashboards": {
      "activeView": "grid_default",
      "views": {
       "grid_default": {
        "col": null,
        "height": 2,
        "hidden": true,
        "locked": true,
        "row": null,
        "width": 2
       }
      }
     }
    },
    "tags": []
   },
   "outputs": [
    {
     "name": "stderr",
     "output_type": "stream",
     "text": [
      "/var/folders/y1/4cr_s701753fh53hc600pm_h0000gn/T/ipykernel_85745/2552943099.py:1: FutureWarning: The geopandas.dataset module is deprecated and will be removed in GeoPandas 1.0. You can get the original 'naturalearth_lowres' data from https://www.naturalearthdata.com/downloads/110m-cultural-vectors/.\n",
      "  world_gpd = gpd.read_file(gpd.datasets.get_path(\"naturalearth_lowres\"))\n"
     ]
    }
   ],
   "source": [
    "world_gpd = gpd.read_file(gpd.datasets.get_path(\"naturalearth_lowres\"))"
   ]
  },
  {
   "cell_type": "code",
   "execution_count": 3,
   "id": "498a4472-7071-464c-9fca-1d46964c48fb",
   "metadata": {
    "extensions": {
     "jupyter_dashboards": {
      "activeView": "grid_default",
      "views": {
       "grid_default": {
        "col": null,
        "height": 2,
        "hidden": true,
        "locked": true,
        "row": null,
        "width": 2
       }
      }
     }
    },
    "tags": []
   },
   "outputs": [
    {
     "name": "stderr",
     "output_type": "stream",
     "text": [
      "/var/folders/y1/4cr_s701753fh53hc600pm_h0000gn/T/ipykernel_85745/144915518.py:1: FutureWarning: The geopandas.dataset module is deprecated and will be removed in GeoPandas 1.0. You can get the original 'naturalearth_cities' data from https://www.naturalearthdata.com/downloads/110m-cultural-vectors/.\n",
      "  capitals_gpd = gpd.read_file(gpd.datasets.get_path(\"naturalearth_cities\"))\n"
     ]
    }
   ],
   "source": [
    "capitals_gpd = gpd.read_file(gpd.datasets.get_path(\"naturalearth_cities\"))"
   ]
  },
  {
   "cell_type": "code",
   "execution_count": 4,
   "id": "1b499c9b-9c14-411d-a1af-41e85c193054",
   "metadata": {
    "extensions": {
     "jupyter_dashboards": {
      "activeView": "grid_default",
      "views": {
       "grid_default": {
        "col": null,
        "height": 2,
        "hidden": true,
        "locked": true,
        "row": null,
        "width": 2
       }
      }
     }
    },
    "tags": []
   },
   "outputs": [],
   "source": [
    "import glue_jupyter as gj\n",
    "from glue_map.data import GeoRegionData\n",
    "mapapp = gj.jglue()\n",
    "world = GeoRegionData(world_gpd, \"countries\")\n",
    "cities = GeoRegionData(capitals_gpd, \"cities\")\n",
    "mapapp.data_collection.append(world)\n",
    "mapapp.data_collection.append(cities)\n",
    "\n",
    "mapapp.add_link(mapapp.data_collection[\"countries\"], 'Center Latitude',  mapapp.data_collection[\"cities\"], 'Center Latitude')\n",
    "mapapp.add_link(mapapp.data_collection[\"countries\"], 'Center Longitude', mapapp.data_collection[\"cities\"], 'Center Longitude')\n"
   ]
  },
  {
   "cell_type": "code",
   "execution_count": null,
   "id": "a6f0636c-1a57-423c-b008-4abf2277dcb5",
   "metadata": {},
   "outputs": [],
   "source": []
  },
  {
   "cell_type": "code",
   "execution_count": 5,
   "id": "e845b61c-ea62-431f-9d36-003347832212",
   "metadata": {
    "extensions": {
     "jupyter_dashboards": {
      "activeView": "grid_default",
      "views": {
       "grid_default": {
        "col": 0,
        "height": 14,
        "hidden": false,
        "locked": true,
        "row": 0,
        "width": 7
       }
      }
     }
    },
    "tags": []
   },
   "outputs": [
    {
     "data": {
      "application/vnd.jupyter.widget-view+json": {
       "model_id": "a573e7b3542d48b2bf3f864a6b301228",
       "version_major": 2,
       "version_minor": 0
      },
      "text/plain": [
       "LayoutWidget(controls={'toolbar_selection_tools': BasicJupyterToolbar(template=Template(template='<template>\\n…"
      ]
     },
     "metadata": {},
     "output_type": "display_data"
    }
   ],
   "source": [
    "mapviewer = mapapp.new_data_viewer('Map')\n",
    "_ = mapviewer.add_data(mapapp.data_collection[\"countries\"])\n",
    "_ = mapviewer.add_data(mapapp.data_collection[\"cities\"])"
   ]
  },
  {
   "cell_type": "code",
   "execution_count": 9,
   "id": "4244b86a-5d38-4758-b7a5-dcaca73d3d7f",
   "metadata": {},
   "outputs": [
    {
     "data": {
      "text/plain": [
       "MapPointsLayerState for cities"
      ]
     },
     "execution_count": 9,
     "metadata": {},
     "output_type": "execute_result"
    }
   ],
   "source": [
    "mapviewer.layers[1].state"
   ]
  },
  {
   "cell_type": "code",
   "execution_count": null,
   "id": "a7e75bfb-d30a-45e0-846b-4d3ff213c242",
   "metadata": {},
   "outputs": [],
   "source": []
  },
  {
   "cell_type": "code",
   "execution_count": 7,
   "id": "41b080e5-fd70-4830-b3ab-aec2c4eabfdc",
   "metadata": {
    "extensions": {
     "jupyter_dashboards": {
      "activeView": "grid_default",
      "views": {
       "grid_default": {
        "col": 7,
        "height": 14,
        "hidden": false,
        "locked": true,
        "row": 0,
        "width": 5
       }
      }
     }
    },
    "tags": []
   },
   "outputs": [
    {
     "data": {
      "application/vnd.jupyter.widget-view+json": {
       "model_id": "db92b69c87744dbf93d1c2d2010a5f9c",
       "version_major": 2,
       "version_minor": 0
      },
      "text/plain": [
       "LayoutWidget(controls={'toolbar_selection_tools': BasicJupyterToolbar(template=Template(template='<template>\\n…"
      ]
     },
     "metadata": {},
     "output_type": "display_data"
    }
   ],
   "source": [
    "scatter = mapapp.scatter2d(data=world)\n",
    "scatter.state.x_att = world.id['pop_est']\n",
    "scatter.state.y_att = world.id['gdp_md_est']"
   ]
  },
  {
   "cell_type": "code",
   "execution_count": 7,
   "id": "9d3520bf-3039-4f21-af8d-36959fed4e20",
   "metadata": {
    "extensions": {
     "jupyter_dashboards": {
      "activeView": "grid_default",
      "views": {
       "grid_default": {
        "col": 0,
        "height": 15,
        "hidden": false,
        "locked": true,
        "row": 14,
        "width": 7
       }
      }
     }
    },
    "tags": []
   },
   "outputs": [
    {
     "data": {
      "application/vnd.jupyter.widget-view+json": {
       "model_id": "8c63c77919914942bfa4494e0a769745",
       "version_major": 2,
       "version_minor": 0
      },
      "text/plain": [
       "LayoutWidget(controls={'toolbar_selection_tools': BasicJupyterToolbar(template=Template(template='<template>\\n…"
      ]
     },
     "metadata": {},
     "output_type": "display_data"
    }
   ],
   "source": [
    "histogram = mapapp.histogram1d(data=cities)"
   ]
  },
  {
   "cell_type": "code",
   "execution_count": 8,
   "id": "c51e2248-1684-4e7e-9cff-fd91e69b340e",
   "metadata": {
    "extensions": {
     "jupyter_dashboards": {
      "activeView": "grid_default",
      "views": {
       "grid_default": {
        "col": 7,
        "height": 15,
        "hidden": false,
        "locked": true,
        "row": 14,
        "width": 5
       }
      }
     }
    },
    "tags": []
   },
   "outputs": [
    {
     "data": {
      "application/vnd.jupyter.widget-view+json": {
       "model_id": "52a73a547c8d4af7aa3388860c660e87",
       "version_major": 2,
       "version_minor": 0
      },
      "text/plain": [
       "LayoutWidget(controls={'toolbar_selection_tools': BasicJupyterToolbar(template=Template(template='<template>\\n…"
      ]
     },
     "metadata": {},
     "output_type": "display_data"
    }
   ],
   "source": [
    "table = mapapp.table(data=cities)"
   ]
  },
  {
   "cell_type": "code",
   "execution_count": null,
   "id": "353d6598-0603-4242-af44-dcfb1232cbdd",
   "metadata": {
    "extensions": {
     "jupyter_dashboards": {
      "activeView": "grid_default",
      "views": {
       "grid_default": {
        "col": null,
        "height": 2,
        "hidden": true,
        "locked": true,
        "row": null,
        "width": 2
       }
      }
     }
    }
   },
   "outputs": [],
   "source": []
  }
 ],
 "metadata": {
  "extensions": {
   "jupyter_dashboards": {
    "activeView": "grid_default",
    "version": 1,
    "views": {
     "grid_default": {
      "cellMargin": 2,
      "defaultCellHeight": 40,
      "maxColumns": 12,
      "name": "grid",
      "type": "grid"
     }
    }
   }
  },
  "kernelspec": {
   "display_name": "Python 3 (ipykernel)",
   "language": "python",
   "name": "python3"
  },
  "language_info": {
   "codemirror_mode": {
    "name": "ipython",
    "version": 3
   },
   "file_extension": ".py",
   "mimetype": "text/x-python",
   "name": "python",
   "nbconvert_exporter": "python",
   "pygments_lexer": "ipython3",
   "version": "3.11.0"
  }
 },
 "nbformat": 4,
 "nbformat_minor": 5
}
