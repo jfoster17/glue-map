{
 "cells": [
  {
   "cell_type": "code",
   "execution_count": 1,
   "id": "46045b17-9111-4d8b-9f81-76383fda160c",
   "metadata": {
    "extensions": {
     "jupyter_dashboards": {
      "activeView": "grid_default",
      "views": {
       "grid_default": {
        "col": null,
        "height": 2,
        "hidden": true,
        "locked": true,
        "row": null,
        "width": 2
       }
      }
     }
    },
    "tags": []
   },
   "outputs": [],
   "source": [
    "import geopandas as gpd"
   ]
  },
  {
   "cell_type": "code",
   "execution_count": 2,
   "id": "cd0f27a3-504c-4c9d-b948-33caecb312da",
   "metadata": {
    "extensions": {
     "jupyter_dashboards": {
      "activeView": "grid_default",
      "views": {
       "grid_default": {
        "col": null,
        "height": 2,
        "hidden": true,
        "locked": true,
        "row": null,
        "width": 2
       }
      }
     }
    },
    "tags": []
   },
   "outputs": [],
   "source": [
    "world_gpd = gpd.read_file(gpd.datasets.get_path(\"naturalearth_lowres\"))"
   ]
  },
  {
   "cell_type": "code",
   "execution_count": 3,
   "id": "498a4472-7071-464c-9fca-1d46964c48fb",
   "metadata": {
    "extensions": {
     "jupyter_dashboards": {
      "activeView": "grid_default",
      "views": {
       "grid_default": {
        "col": null,
        "height": 2,
        "hidden": true,
        "locked": true,
        "row": null,
        "width": 2
       }
      }
     }
    },
    "tags": []
   },
   "outputs": [],
   "source": [
    "capitals_gpd = gpd.read_file(gpd.datasets.get_path(\"naturalearth_cities\"))"
   ]
  },
  {
   "cell_type": "code",
   "execution_count": 4,
   "id": "1b499c9b-9c14-411d-a1af-41e85c193054",
   "metadata": {
    "extensions": {
     "jupyter_dashboards": {
      "activeView": "grid_default",
      "views": {
       "grid_default": {
        "col": null,
        "height": 2,
        "hidden": true,
        "locked": true,
        "row": null,
        "width": 2
       }
      }
     }
    },
    "tags": []
   },
   "outputs": [],
   "source": [
    "import glue_jupyter as gj\n",
    "from glue_map.data import GeoRegionData\n",
    "mapapp = gj.jglue()\n",
    "world = GeoRegionData(world_gpd, \"countries\")\n",
    "cities = GeoRegionData(capitals_gpd, \"cities\")\n",
    "mapapp.data_collection.append(world)\n",
    "mapapp.data_collection.append(cities)\n",
    "\n",
    "mapapp.add_link(mapapp.data_collection[\"countries\"], 'Geodetic latitude (Centroid)',  mapapp.data_collection[\"cities\"], 'Geodetic latitude (Centroid)')\n",
    "mapapp.add_link(mapapp.data_collection[\"countries\"], 'Geodetic longitude (Centroid)', mapapp.data_collection[\"cities\"], 'Geodetic longitude (Centroid)')\n"
   ]
  },
  {
   "cell_type": "code",
   "execution_count": 5,
   "id": "e845b61c-ea62-431f-9d36-003347832212",
   "metadata": {
    "extensions": {
     "jupyter_dashboards": {
      "activeView": "grid_default",
      "views": {
       "grid_default": {
        "col": 0,
        "height": 14,
        "hidden": false,
        "locked": true,
        "row": 0,
        "width": 7
       }
      }
     }
    },
    "tags": []
   },
   "outputs": [
    {
     "data": {
      "application/vnd.jupyter.widget-view+json": {
       "model_id": "690ec9bc22754f6c8362ecda6fa5704e",
       "version_major": 2,
       "version_minor": 0
      },
      "text/plain": [
       "LayoutWidget(controls={'toolbar_selection_tools': BasicJupyterToolbar(template=Template(template='<template>\\n…"
      ]
     },
     "metadata": {},
     "output_type": "display_data"
    }
   ],
   "source": [
    "mapviewer = mapapp.new_data_viewer('map')\n",
    "_ = mapviewer.add_data(mapapp.data_collection[\"countries\"])\n",
    "_ = mapviewer.add_data(mapapp.data_collection[\"cities\"])"
   ]
  },
  {
   "cell_type": "code",
   "execution_count": 6,
   "id": "41b080e5-fd70-4830-b3ab-aec2c4eabfdc",
   "metadata": {
    "extensions": {
     "jupyter_dashboards": {
      "activeView": "grid_default",
      "views": {
       "grid_default": {
        "col": 7,
        "height": 14,
        "hidden": false,
        "locked": true,
        "row": 0,
        "width": 5
       }
      }
     }
    },
    "tags": []
   },
   "outputs": [
    {
     "data": {
      "application/vnd.jupyter.widget-view+json": {
       "model_id": "1a4a4b6603c14db586e95e1b7211d885",
       "version_major": 2,
       "version_minor": 0
      },
      "text/plain": [
       "LayoutWidget(controls={'toolbar_selection_tools': BasicJupyterToolbar(template=Template(template='<template>\\n…"
      ]
     },
     "metadata": {},
     "output_type": "display_data"
    }
   ],
   "source": [
    "scatter = mapapp.scatter2d(data=world)\n",
    "scatter.state.x_att = world.id['pop_est']\n",
    "scatter.state.y_att = world.id['gdp_md_est']"
   ]
  },
  {
   "cell_type": "code",
   "execution_count": 7,
   "id": "9d3520bf-3039-4f21-af8d-36959fed4e20",
   "metadata": {
    "extensions": {
     "jupyter_dashboards": {
      "activeView": "grid_default",
      "views": {
       "grid_default": {
        "col": 0,
        "height": 15,
        "hidden": false,
        "locked": true,
        "row": 14,
        "width": 7
       }
      }
     }
    },
    "tags": []
   },
   "outputs": [
    {
     "data": {
      "application/vnd.jupyter.widget-view+json": {
       "model_id": "8c63c77919914942bfa4494e0a769745",
       "version_major": 2,
       "version_minor": 0
      },
      "text/plain": [
       "LayoutWidget(controls={'toolbar_selection_tools': BasicJupyterToolbar(template=Template(template='<template>\\n…"
      ]
     },
     "metadata": {},
     "output_type": "display_data"
    }
   ],
   "source": [
    "histogram = mapapp.histogram1d(data=cities)"
   ]
  },
  {
   "cell_type": "code",
   "execution_count": 8,
   "id": "c51e2248-1684-4e7e-9cff-fd91e69b340e",
   "metadata": {
    "extensions": {
     "jupyter_dashboards": {
      "activeView": "grid_default",
      "views": {
       "grid_default": {
        "col": 7,
        "height": 15,
        "hidden": false,
        "locked": true,
        "row": 14,
        "width": 5
       }
      }
     }
    },
    "tags": []
   },
   "outputs": [
    {
     "data": {
      "application/vnd.jupyter.widget-view+json": {
       "model_id": "52a73a547c8d4af7aa3388860c660e87",
       "version_major": 2,
       "version_minor": 0
      },
      "text/plain": [
       "LayoutWidget(controls={'toolbar_selection_tools': BasicJupyterToolbar(template=Template(template='<template>\\n…"
      ]
     },
     "metadata": {},
     "output_type": "display_data"
    }
   ],
   "source": [
    "table = mapapp.table(data=cities)"
   ]
  },
  {
   "cell_type": "code",
   "execution_count": null,
   "id": "353d6598-0603-4242-af44-dcfb1232cbdd",
   "metadata": {
    "extensions": {
     "jupyter_dashboards": {
      "activeView": "grid_default",
      "views": {
       "grid_default": {
        "col": null,
        "height": 2,
        "hidden": true,
        "locked": true,
        "row": null,
        "width": 2
       }
      }
     }
    }
   },
   "outputs": [],
   "source": []
  }
 ],
 "metadata": {
  "extensions": {
   "jupyter_dashboards": {
    "activeView": "grid_default",
    "version": 1,
    "views": {
     "grid_default": {
      "cellMargin": 2,
      "defaultCellHeight": 40,
      "maxColumns": 12,
      "name": "grid",
      "type": "grid"
     }
    }
   }
  },
  "kernelspec": {
   "display_name": "Python 3 (ipykernel)",
   "language": "python",
   "name": "python3"
  },
  "language_info": {
   "codemirror_mode": {
    "name": "ipython",
    "version": 3
   },
   "file_extension": ".py",
   "mimetype": "text/x-python",
   "name": "python",
   "nbconvert_exporter": "python",
   "pygments_lexer": "ipython3",
   "version": "3.10.10"
  }
 },
 "nbformat": 4,
 "nbformat_minor": 5
}
